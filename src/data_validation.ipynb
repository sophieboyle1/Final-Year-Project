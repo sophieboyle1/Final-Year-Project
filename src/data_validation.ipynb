{
 "cells": [
  {
   "cell_type": "markdown",
   "metadata": {},
   "source": [
    "# NHS A&E Data Validation & Summary Analysis\n",
    "\n",
    "This notebook performs a quick data validation and exploratory analysis on the NHS A&E dataset. We will:\n",
    "- Check that the dataset is balanced across years and months.\n",
    "- Identify any outliers or unexpected trends.\n",
    "- Summarize key statistics for numerical and categorical variables.\n"
   ]
  },
  {
   "cell_type": "code",
   "execution_count": 13,
   "metadata": {},
   "outputs": [
    {
     "name": "stdout",
     "output_type": "stream",
     "text": [
      "Unique years in dataset: [2024 2023 2022 2021 2020 2019 2018]\n",
      "\n",
      "Records per year:\n",
      "year\n",
      "2018    3686\n",
      "2019    2812\n",
      "2020    2663\n",
      "2021    2583\n",
      "2022    2466\n",
      "2023    2450\n",
      "2024    2383\n",
      "Name: count, dtype: int64\n"
     ]
    }
   ],
   "source": [
    "import pandas as pd\n",
    "\n",
    "# Load the dataset\n",
    "file_path = \"nhs_ae_merged.csv\"\n",
    "nhs_data = pd.read_csv(file_path)\n",
    "\n",
    "# Check unique years\n",
    "print(\"Unique years in dataset:\", nhs_data[\"year\"].unique())\n",
    "\n",
    "# Count records per year\n",
    "print(\"\\nRecords per year:\")\n",
    "print(nhs_data[\"year\"].value_counts())\n"
   ]
  },
  {
   "cell_type": "markdown",
   "metadata": {},
   "source": [
    "## Checking Data Balance\n",
    "\n",
    "To ensure the dataset is balanced, I will:\n",
    "- Count the number of records for each year.\n",
    "- Count the number of records for each month.\n"
   ]
  },
  {
   "cell_type": "code",
   "execution_count": 14,
   "metadata": {},
   "outputs": [
    {
     "name": "stdout",
     "output_type": "stream",
     "text": [
      "Records per year:\n",
      "year\n",
      "2018    3686\n",
      "2019    2812\n",
      "2020    2663\n",
      "2021    2583\n",
      "2022    2466\n",
      "2023    2450\n",
      "2024    2383\n",
      "Name: count, dtype: int64\n",
      "\n",
      "Records per month:\n",
      "month\n",
      "0            1756\n",
      "April        1526\n",
      "May          1525\n",
      "June         1521\n",
      "August       1509\n",
      "September    1507\n",
      "October      1505\n",
      "November     1503\n",
      "December     1501\n",
      "July         1305\n",
      "January      1299\n",
      "February     1296\n",
      "March        1290\n",
      "Name: count, dtype: int64\n",
      "Unique years in dataset: [2024 2023 2022 2021 2020 2019 2018]\n"
     ]
    }
   ],
   "source": [
    "# Count records per year\n",
    "print(\"Records per year:\")\n",
    "print(nhs_data[\"year\"].value_counts())\n",
    "\n",
    "# Count records per month\n",
    "print(\"\\nRecords per month:\")\n",
    "print(nhs_data[\"month\"].value_counts())\n",
    "print(\"Unique years in dataset:\", nhs_data[\"year\"].unique())\n",
    "\n"
   ]
  },
  {
   "cell_type": "markdown",
   "metadata": {},
   "source": [
    "## Identifying Outliers\n",
    "\n",
    "Next, I will look at some key numerical fields to identify any outliers or unexpected values. This will help ensure that our analysis is based on clean, reliable data.\n"
   ]
  }
 ],
 "metadata": {
  "kernelspec": {
   "display_name": ".venv",
   "language": "python",
   "name": "python3"
  },
  "language_info": {
   "codemirror_mode": {
    "name": "ipython",
    "version": 3
   },
   "file_extension": ".py",
   "mimetype": "text/x-python",
   "name": "python",
   "nbconvert_exporter": "python",
   "pygments_lexer": "ipython3",
   "version": "3.9.6"
  }
 },
 "nbformat": 4,
 "nbformat_minor": 2
}
