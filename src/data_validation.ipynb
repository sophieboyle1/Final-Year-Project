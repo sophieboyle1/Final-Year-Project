{
 "cells": [
  {
   "cell_type": "markdown",
   "metadata": {},
   "source": [
    "# NHS A&E Data Validation & Summary Analysis\n",
    "\n",
    "This notebook performs a quick data validation and exploratory analysis on the NHS A&E dataset. We will:\n",
    "- Check that the dataset is balanced across years and months.\n",
    "- Identify any outliers or unexpected trends.\n",
    "- Summarize key statistics for numerical and categorical variables.\n"
   ]
  },
  {
   "cell_type": "code",
   "execution_count": null,
   "metadata": {},
   "outputs": [
    {
     "name": "stdout",
     "output_type": "stream",
     "text": [
      "✅ Adjusted July 2021 to a trend-matched estimate: inf\n",
      "⚠ January, February, or March 2020 have missing or zero values. Applying trend-based estimation...\n"
     ]
    },
    {
     "name": "stderr",
     "output_type": "stream",
     "text": [
      "/var/folders/12/9jvww_b906s7rr1mrprk45v80000gn/T/ipykernel_4135/1431836506.py:38: RuntimeWarning: divide by zero encountered in scalar divide\n",
      "  june_july_ratios.append(july_value[0] / june_value[0])  # Ratio July/June\n",
      "/var/folders/12/9jvww_b906s7rr1mrprk45v80000gn/T/ipykernel_4135/1431836506.py:40: RuntimeWarning: divide by zero encountered in scalar divide\n",
      "  july_august_ratios.append(july_value[0] / august_value[0])  # Ratio July/August\n"
     ]
    },
    {
     "ename": "NameError",
     "evalue": "name 'avg_value' is not defined",
     "output_type": "error",
     "traceback": [
      "\u001b[0;31m---------------------------------------------------------------------------\u001b[0m",
      "\u001b[0;31mNameError\u001b[0m                                 Traceback (most recent call last)",
      "Cell \u001b[0;32mIn[93], line 85\u001b[0m\n\u001b[1;32m     82\u001b[0m             nhs_data \u001b[38;5;241m=\u001b[39m pd\u001b[38;5;241m.\u001b[39mconcat([nhs_data, new_row], ignore_index\u001b[38;5;241m=\u001b[39m\u001b[38;5;28;01mTrue\u001b[39;00m)\n\u001b[1;32m     83\u001b[0m         \u001b[38;5;28;01melse\u001b[39;00m:\n\u001b[1;32m     84\u001b[0m             \u001b[38;5;66;03m# Update existing zero values\u001b[39;00m\n\u001b[0;32m---> 85\u001b[0m             nhs_data\u001b[38;5;241m.\u001b[39mloc[(nhs_data[\u001b[38;5;124m\"\u001b[39m\u001b[38;5;124myear\u001b[39m\u001b[38;5;124m\"\u001b[39m] \u001b[38;5;241m==\u001b[39m \u001b[38;5;124m\"\u001b[39m\u001b[38;5;124m2020\u001b[39m\u001b[38;5;124m\"\u001b[39m) \u001b[38;5;241m&\u001b[39m (nhs_data[\u001b[38;5;124m\"\u001b[39m\u001b[38;5;124mmonth\u001b[39m\u001b[38;5;124m\"\u001b[39m] \u001b[38;5;241m==\u001b[39m month), \u001b[38;5;124m\"\u001b[39m\u001b[38;5;124mtotal_a&e_attendances\u001b[39m\u001b[38;5;124m\"\u001b[39m] \u001b[38;5;241m=\u001b[39m \u001b[43mavg_value\u001b[49m\n\u001b[1;32m     87\u001b[0m     \u001b[38;5;28mprint\u001b[39m(\u001b[38;5;124mf\u001b[39m\u001b[38;5;124m\"\u001b[39m\u001b[38;5;124m✅ Fixed Jan–March 2020 using trend-based estimation.\u001b[39m\u001b[38;5;124m\"\u001b[39m)\n\u001b[1;32m     89\u001b[0m \u001b[38;5;66;03m# 📁 Save the fixed dataset again\u001b[39;00m\n",
      "\u001b[0;31mNameError\u001b[0m: name 'avg_value' is not defined"
     ]
    }
   ],
   "source": [
    "import pandas as pd\n",
    "import numpy as np\n",
    "import matplotlib.pyplot as plt\n",
    "import seaborn as sns\n",
    "\n",
    "# ✅ Load Dataset\n",
    "file_path = \"nhs_ae_merged.csv\"\n",
    "nhs_data = pd.read_csv(file_path)\n",
    "\n",
    "# ✅ Ensure 'year' is a string and 'month' is categorical\n",
    "nhs_data[\"year\"] = nhs_data[\"year\"].astype(str)\n",
    "nhs_data[\"month\"] = pd.Categorical(nhs_data[\"month\"], categories=[\n",
    "    \"January\", \"February\", \"March\", \"April\", \"May\", \"June\",\n",
    "    \"July\", \"August\", \"September\", \"October\", \"November\", \"December\"\n",
    "], ordered=True)\n",
    "\n",
    "# ✅ **Calculate Total Attendances**\n",
    "nhs_data[\"total_a&e_attendances\"] = (\n",
    "    nhs_data[\"a&e_attendances_type_1\"].fillna(0) +\n",
    "    nhs_data[\"a&e_attendances_type_2\"].fillna(0) +\n",
    "    nhs_data[\"a&e_attendances_other_a&e_department\"].fillna(0)\n",
    ")\n",
    "\n",
    "# ✅ **Remove incorrect July 2021 value**\n",
    "nhs_data = nhs_data[~((nhs_data[\"year\"] == \"2021\") & (nhs_data[\"month\"] == \"July\"))]\n",
    "\n",
    "# ✅ **Estimate July 2021 using Trend-Based Interpolation**\n",
    "june_july_ratios = []\n",
    "july_august_ratios = []\n",
    "\n",
    "for y in [\"2020\", \"2019\", \"2022\", \"2023\", \"2024\"]:  # Exclude 2021\n",
    "    june_value = nhs_data.loc[(nhs_data[\"year\"] == y) & (nhs_data[\"month\"] == \"June\"), \"total_a&e_attendances\"].values\n",
    "    july_value = nhs_data.loc[(nhs_data[\"year\"] == y) & (nhs_data[\"month\"] == \"July\"), \"total_a&e_attendances\"].values\n",
    "    august_value = nhs_data.loc[(nhs_data[\"year\"] == y) & (nhs_data[\"month\"] == \"August\"), \"total_a&e_attendances\"].values\n",
    "    \n",
    "    if june_value.size > 0 and july_value.size > 0:\n",
    "        june_july_ratios.append(july_value[0] / june_value[0])\n",
    "    if july_value.size > 0 and august_value.size > 0:\n",
    "        july_august_ratios.append(july_value[0] / august_value[0])\n",
    "\n",
    "avg_june_july_ratio = np.mean(june_july_ratios)\n",
    "avg_july_august_ratio = np.mean(july_august_ratios)\n",
    "\n",
    "june_2021 = nhs_data.loc[(nhs_data[\"year\"] == \"2021\") & (nhs_data[\"month\"] == \"June\"), \"total_a&e_attendances\"].values[0]\n",
    "aug_2021 = nhs_data.loc[(nhs_data[\"year\"] == \"2021\") & (nhs_data[\"month\"] == \"August\"), \"total_a&e_attendances\"].values[0]\n",
    "\n",
    "estimated_july_2021 = (june_2021 * avg_june_july_ratio + aug_2021 * avg_july_august_ratio) / 2\n",
    "\n",
    "new_july_2021 = pd.DataFrame({\n",
    "    \"year\": [\"2021\"],\n",
    "    \"month\": [\"July\"],\n",
    "    \"total_a&e_attendances\": [estimated_july_2021]\n",
    "})\n",
    "\n",
    "nhs_data = pd.concat([nhs_data, new_july_2021], ignore_index=True)\n",
    "print(f\"✅ Adjusted July 2021 to a trend-matched estimate: {estimated_july_2021}\")\n",
    "\n",
    "# ✅ Identify missing or zero values for early 2020\n",
    "early_2020_mask = (nhs_data[\"year\"] == \"2020\") & (nhs_data[\"month\"].isin([\"January\", \"February\", \"March\"]))\n",
    "\n",
    "if nhs_data.loc[early_2020_mask, \"total_a&e_attendances\"].isna().any() or (nhs_data.loc[early_2020_mask, \"total_a&e_attendances\"] == 0).any():\n",
    "    print(\"⚠ January, February, or March 2020 have missing or zero values. Applying trend-based estimation...\")\n",
    "    \n",
    "    for month in [\"January\", \"February\", \"March\"]:\n",
    "        avg_value = nhs_data.loc[(nhs_data[\"month\"] == month) & (nhs_data[\"year\"] != \"2020\"), \"total_a&e_attendances\"].mean()\n",
    "        \n",
    "        if nhs_data.loc[(nhs_data[\"year\"] == \"2020\") & (nhs_data[\"month\"] == month), \"total_a&e_attendances\"].empty:\n",
    "            new_row = pd.DataFrame({\n",
    "                \"year\": [\"2020\"],\n",
    "                \"month\": [month],\n",
    "                \"total_a&e_attendances\": [avg_value]\n",
    "            })\n",
    "            nhs_data = pd.concat([nhs_data, new_row], ignore_index=True)\n",
    "        else:\n",
    "            nhs_data.loc[(nhs_data[\"year\"] == \"2020\") & (nhs_data[\"month\"] == month), \"total_a&e_attendances\"] = avg_value\n",
    "    \n",
    "    print(f\"✅ Fixed Jan–March 2020 using trend-based estimation.\")\n",
    "\n",
    "# 📁 Save the fixed dataset again\n",
    "output_file = \"nhs_ae_merged_fixed.csv\"\n",
    "nhs_data.to_csv(output_file, index=False)\n",
    "print(f\"\\n📁 Updated dataset saved as {output_file}\")\n",
    "\n",
    "# ✅ **Sort Data Before Plotting**\n",
    "monthly_trends = nhs_data.groupby([\"year\", \"month\"])[\"total_a&e_attendances\"].sum().reset_index()\n",
    "\n",
    "monthly_trends[\"month\"] = pd.Categorical(monthly_trends[\"month\"], categories=[\n",
    "    \"January\", \"February\", \"March\", \"April\", \"May\", \"June\",\n",
    "    \"July\", \"August\", \"September\", \"October\", \"November\", \"December\"\n",
    "], ordered=True)\n",
    "\n",
    "monthly_trends = monthly_trends.sort_values([\"year\", \"month\"])\n",
    "\n",
    "# 📊 **Plot Updated Trends**\n",
    "plt.figure(figsize=(12, 6))\n",
    "sns.lineplot(x=\"month\", y=\"total_a&e_attendances\", hue=\"year\", data=monthly_trends, marker=\"o\", palette=\"coolwarm\")\n",
    "plt.title(\"Monthly Trends in A&E Attendances (Trend-Based Fix for July 2021)\")\n",
    "plt.xlabel(\"Month\")\n",
    "plt.ylabel(\"Total Attendances\")\n",
    "plt.xticks(rotation=45)\n",
    "plt.legend(title=\"Year\")\n",
    "plt.grid(True)\n",
    "plt.show()\n"
   ]
  },
  {
   "cell_type": "code",
   "execution_count": 92,
   "metadata": {},
   "outputs": [
    {
     "name": "stdout",
     "output_type": "stream",
     "text": [
      "\n",
      "🔍 Checking 2020 Monthly Totals:\n",
      "month\n",
      "April        1833150.0\n",
      "August       3397056.0\n",
      "December     2869508.0\n",
      "February           0.0\n",
      "January            0.0\n",
      "July         3176572.0\n",
      "June         2821204.0\n",
      "March              0.0\n",
      "May          2523674.0\n",
      "November     2914400.0\n",
      "October      3149760.0\n",
      "September    3340750.0\n",
      "Name: total_a&e_attendances, dtype: float64\n"
     ]
    }
   ],
   "source": [
    "print(\"\\n🔍 Checking 2020 Monthly Totals:\")\n",
    "print(nhs_data[nhs_data[\"year\"] == \"2020\"].groupby(\"month\")[\"total_a&e_attendances\"].sum())\n"
   ]
  }
 ],
 "metadata": {
  "kernelspec": {
   "display_name": ".venv",
   "language": "python",
   "name": "python3"
  },
  "language_info": {
   "codemirror_mode": {
    "name": "ipython",
    "version": 3
   },
   "file_extension": ".py",
   "mimetype": "text/x-python",
   "name": "python",
   "nbconvert_exporter": "python",
   "pygments_lexer": "ipython3",
   "version": "3.9.6"
  }
 },
 "nbformat": 4,
 "nbformat_minor": 2
}
